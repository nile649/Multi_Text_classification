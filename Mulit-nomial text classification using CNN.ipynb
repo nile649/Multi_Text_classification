{
 "cells": [
  {
   "cell_type": "code",
   "execution_count": 16,
   "metadata": {},
   "outputs": [],
   "source": [
    "import re\n",
    "import xml.sax.saxutils as saxutils\n",
    "\n",
    "from bs4 import BeautifulSoup\n",
    "\n",
    "from keras.models import Sequential\n",
    "from keras.layers.embeddings import Embedding\n",
    "from keras.layers.recurrent import GRU, LSTM\n",
    "from keras.preprocessing.text import Tokenizer\n",
    "from keras.preprocessing.sequence import pad_sequences\n",
    "from keras.layers import Dense\n",
    "\n",
    "from nltk.corpus import stopwords\n",
    "from nltk.tokenize import word_tokenize\n",
    "from nltk.stem import WordNetLemmatizer\n",
    "\n",
    "from pandas import DataFrame\n",
    "import pandas as pd\n",
    "from random import random\n",
    "import numpy as np\n",
    "# Set Numpy random seed\n",
    "np.random.seed(1)"
   ]
  },
  {
   "cell_type": "code",
   "execution_count": 17,
   "metadata": {},
   "outputs": [],
   "source": [
    "data_folder = './ddd/'"
   ]
  },
  {
   "cell_type": "markdown",
   "metadata": {},
   "source": [
    "# Dataset is cutom made for the following project to show multinomial categorization\n",
    "    recognition -> 0\n",
    "    detection = [hog,gaussian,graidents,contours,haar] -> 1\n",
    "    corner detection = [harish,canny,sobel] -> 2\n",
    "    similarity = [sift,surf] -> 3\n",
    "    color = [rgb,hsv,thrsholding,histogram] -> 4\n",
    "    mropholgy = [dilation] -> 5\n",
    "    ocr = [ocr,tessarct] -> 6\n",
    "    crop = [crop] -> 7\n",
    "    transformation = [hemography,stitching] -> 8\n",
    "    segementation = [segmentation,selective search] -> 9\n",
    "    face detection = [face detection] -> 10"
   ]
  },
  {
   "cell_type": "code",
   "execution_count": null,
   "metadata": {},
   "outputs": [],
   "source": []
  },
  {
   "cell_type": "code",
   "execution_count": 21,
   "metadata": {},
   "outputs": [],
   "source": []
  },
  {
   "cell_type": "code",
   "execution_count": 22,
   "metadata": {},
   "outputs": [],
   "source": [
    "  \n",
    "def to_category_vector(categories, target_categories):\n",
    "    vector = np.zeros(len(target_categories)).astype(np.float32)\n",
    "    \n",
    "    for i in range(len(target_categories)):\n",
    "        if target_categories[i] in categories:\n",
    "            vector[i] = 1.0\n",
    "    \n",
    "    return vector"
   ]
  },
  {
   "cell_type": "code",
   "execution_count": 42,
   "metadata": {},
   "outputs": [],
   "source": [
    "\n",
    "selected_categories = np.array( ['detection','recognition','corner detection','similarity','color','morphology','ocr',\n",
    "                       'crop','transformation','segmentation','face detection','background','defects','none']\n",
    ")\n",
    "\n",
    "num_categories = 14\n"
   ]
  },
  {
   "cell_type": "code",
   "execution_count": 23,
   "metadata": {},
   "outputs": [],
   "source": [
    "def strip_tags(text):\n",
    "    return re.sub('<[^<]+?>', '', text).strip()\n",
    "\n",
    "def unescape(text):\n",
    "    return saxutils.unescape(text)\n",
    "#             document_body = strip_tags(str(newsline('text')[0].text)).replace('reuter\\n&#3;', '')\n",
    "#             document_body = unescape(document_body)\n"
   ]
  },
  {
   "cell_type": "code",
   "execution_count": 25,
   "metadata": {},
   "outputs": [],
   "source": [
    "hh = pd.read_csv('./ddd/qq_pos.csv',names=range(1))"
   ]
  },
  {
   "cell_type": "code",
   "execution_count": 1,
   "metadata": {},
   "outputs": [],
   "source": [
    "selected_categories = ['detection','recognition','corner detection','similarity','color','morphology','ocr',\n",
    "                       'crop','transformation','segmentation','face detection','background','defects','none']\n",
    "document_Y = []\n",
    "\n",
    "filepath = './ddd/labelsqq_pos.txt'  \n",
    "with open(filepath) as fp:  \n",
    "    line = fp.readline()\n",
    "#     line = line.lower()\n",
    "    cnt = 1\n",
    "    while line:\n",
    "#         print(\"Line {}: {}\".format(cnt, line.strip()))\n",
    "#         print(line)\n",
    "        document_categories = []\n",
    "#         print(len(line))\n",
    "        if 'recognition' in line:\n",
    "            document_categories.append('recognition')\n",
    "            print('True')\n",
    "            \n",
    "        if 'detection' in line:\n",
    "            document_categories.append('detection')\n",
    "        if 'corner detection' in line:\n",
    "            document_categories.append('corner detection')\n",
    "            \n",
    "        if 'similarity' in line:\n",
    "            document_categories.append('similarity')\n",
    "            \n",
    "        if 'color' in line:\n",
    "            document_categories.append('color')\n",
    "        if 'morphology' in line:\n",
    "            document_categories.append('morphology')\n",
    "        if 'ocr' in line:\n",
    "            document_categories.append('ocr')\n",
    "        if 'crop' in line:\n",
    "            document_categories.append('crop')\n",
    "        if 'transformation' in line:\n",
    "            document_categories.append('transformation')\n",
    "        if 'face detection' in line:\n",
    "            document_categories.append('face detection')\n",
    "        if 'segmentation' in line:\n",
    "            document_categories.append('segmentation')\n",
    "\n",
    "        if 'background' in line:\n",
    "            document_categories.append('background')\n",
    "        if 'defects' in line:\n",
    "            document_categories.append('defects')\n",
    "        if 'none' in line:\n",
    "            document_categories.append('none')\n",
    "\n",
    "\n",
    "            \n",
    "        print(document_categories)\n",
    "        document_Y.append(to_category_vector(document_categories, selected_categories))\n",
    "        line = fp.readline()\n",
    "#         document_categories = []\n",
    "        cnt += 1"
   ]
  },
  {
   "cell_type": "code",
   "execution_count": 13,
   "metadata": {},
   "outputs": [
    {
     "data": {
      "text/plain": [
       "array([1., 1., 0., 0., 0., 0.], dtype=float32)"
      ]
     },
     "execution_count": 13,
     "metadata": {},
     "output_type": "execute_result"
    }
   ],
   "source": [
    "document_X = []\n",
    "for i in range(len(document_Y)):\n",
    "    document_body = unescape(strip_tags(str(hh[0][i])))\n",
    "    document_X.append(document_body)"
   ]
  },
  {
   "cell_type": "code",
   "execution_count": 14,
   "metadata": {},
   "outputs": [
    {
     "data": {
      "text/plain": [
       "array([0., 1., 0., 0., 0., 0.], dtype=float32)"
      ]
     },
     "execution_count": 14,
     "metadata": {},
     "output_type": "execute_result"
    }
   ],
   "source": [
    "document_Y[2]"
   ]
  },
  {
   "cell_type": "code",
   "execution_count": 15,
   "metadata": {},
   "outputs": [
    {
     "data": {
      "text/plain": [
       "1.0"
      ]
     },
     "execution_count": 15,
     "metadata": {},
     "output_type": "execute_result"
    }
   ],
   "source": [
    "document_Y[16].max()"
   ]
  },
  {
   "cell_type": "code",
   "execution_count": 43,
   "metadata": {},
   "outputs": [
    {
     "data": {
      "text/plain": [
       "14"
      ]
     },
     "execution_count": 43,
     "metadata": {},
     "output_type": "execute_result"
    }
   ],
   "source": [
    "len(selected_categories)"
   ]
  },
  {
   "cell_type": "code",
   "execution_count": 44,
   "metadata": {},
   "outputs": [
    {
     "name": "stdout",
     "output_type": "stream",
     "text": [
      "detection of coins (and fit ellipses) on an image \\n\n",
      "[1. 0. 0. 0. 1. 0. 0. 0. 0. 0. 0. 0. 0. 0.]\n"
     ]
    }
   ],
   "source": [
    "print(document_X[22])\n",
    "print(document_Y[22])"
   ]
  },
  {
   "cell_type": "code",
   "execution_count": 45,
   "metadata": {},
   "outputs": [],
   "source": [
    "lemmatizer = WordNetLemmatizer()\n",
    "strip_special_chars = re.compile(\"[^A-Za-z0-9 ]+\")\n",
    "stop_words = set(stopwords.words(\"english\"))\n",
    "stop_words.add('want')\n",
    "def cleanUpSentence(r, stop_words = None):\n",
    "    r = r.lower().replace(\"<br />\", \" \")\n",
    "    r = re.sub(strip_special_chars, \"\", r.lower())\n",
    "    if stop_words is not None:\n",
    "        words = word_tokenize(r)\n",
    "        filtered_sentence = []\n",
    "        for w in words:\n",
    "            w = lemmatizer.lemmatize(w)\n",
    "            if w not in stop_words:\n",
    "                filtered_sentence.append(w)\n",
    "        return \" \".join(filtered_sentence)\n",
    "    else:\n",
    "        return r\n"
   ]
  },
  {
   "cell_type": "code",
   "execution_count": 80,
   "metadata": {},
   "outputs": [],
   "source": []
  },
  {
   "cell_type": "code",
   "execution_count": 46,
   "metadata": {},
   "outputs": [],
   "source": [
    "totalX = []\n",
    "totalY = np.array(document_Y)\n",
    "for i, doc in enumerate(document_X):\n",
    "    totalX.append(cleanUpSentence(doc, stop_words))"
   ]
  },
  {
   "cell_type": "code",
   "execution_count": 47,
   "metadata": {},
   "outputs": [
    {
     "name": "stdout",
     "output_type": "stream",
     "text": [
      "local descriptor comparison instance retrieval ransac visualization sift surf orb etc n\n",
      "[0. 0. 0. 0. 0. 0. 0. 0. 0. 0. 0. 0. 0. 1.]\n"
     ]
    }
   ],
   "source": [
    "print(totalX[220])\n",
    "print(totalY[220])"
   ]
  },
  {
   "cell_type": "code",
   "execution_count": 48,
   "metadata": {},
   "outputs": [
    {
     "name": "stdout",
     "output_type": "stream",
     "text": [
      "max input length is:  21\n"
     ]
    }
   ],
   "source": [
    "xLengths = [len(word_tokenize(x)) for x in totalX]\n",
    "h = sorted(xLengths)  #sorted lengths\n",
    "maxLength =h[len(h)-1]\n",
    "print(\"max input length is: \",maxLength)"
   ]
  },
  {
   "cell_type": "code",
   "execution_count": 49,
   "metadata": {},
   "outputs": [
    {
     "name": "stdout",
     "output_type": "stream",
     "text": [
      "70% cover input sequence length up to 8\n"
     ]
    }
   ],
   "source": [
    "maxLength = h[int(len(h) * 0.70)]\n",
    "print(\"70% cover input sequence length up to\",maxLength)"
   ]
  },
  {
   "cell_type": "code",
   "execution_count": 50,
   "metadata": {},
   "outputs": [
    {
     "name": "stdout",
     "output_type": "stream",
     "text": [
      "input_vocab_size: 1183\n"
     ]
    }
   ],
   "source": [
    "max_vocab_size = 200000\n",
    "input_tokenizer = Tokenizer(max_vocab_size)\n",
    "input_tokenizer.fit_on_texts(totalX)\n",
    "input_vocab_size = len(input_tokenizer.word_index) + 1\n",
    "print(\"input_vocab_size:\",input_vocab_size)\n",
    "totalX = np.array(pad_sequences(input_tokenizer.texts_to_sequences(totalX), maxlen=maxLength))\n"
   ]
  },
  {
   "cell_type": "code",
   "execution_count": 81,
   "metadata": {},
   "outputs": [
    {
     "data": {
      "text/plain": [
       "array([[  3,  47,  12, ..., 275,   5,   1],\n",
       "       [  0,   0,  48, ...,  13, 276,   1],\n",
       "       [  0,   0,  54, ..., 462,  62,   1],\n",
       "       ...,\n",
       "       [  0,   0,   0, ...,   3, 144,   1],\n",
       "       [  0,   0, 141, ...,   6, 460,   1],\n",
       "       [  0,   0,  48, ...,  13, 276,   1]], dtype=int32)"
      ]
     },
     "execution_count": 81,
     "metadata": {},
     "output_type": "execute_result"
    }
   ],
   "source": [
    "totalX"
   ]
  },
  {
   "cell_type": "code",
   "execution_count": 101,
   "metadata": {},
   "outputs": [],
   "source": [
    "embedding_dim = 300\n",
    "model = Sequential()\n",
    "model.add(Embedding(input_vocab_size, embedding_dim,input_length = maxLength))\n",
    "model.add(GRU(300, dropout=0.6, return_sequences=True,activation='relu', recurrent_activation='hard_sigmoid'))\n",
    "model.add(GRU(300, dropout=0.6))\n",
    "model.add(Dense(14, activation='sigmoid'))\n",
    "model.compile(loss='binary_crossentropy', optimizer='adam', metrics=['accuracy'])"
   ]
  },
  {
   "cell_type": "code",
   "execution_count": 102,
   "metadata": {},
   "outputs": [
    {
     "name": "stdout",
     "output_type": "stream",
     "text": [
      "Train on 579 samples, validate on 31 samples\n",
      "Epoch 1/100\n",
      "579/579 [==============================] - 2s 4ms/step - loss: 0.3781 - acc: 0.8937 - val_loss: 0.2837 - val_acc: 0.9078\n",
      "Epoch 2/100\n",
      "579/579 [==============================] - 1s 948us/step - loss: 0.2564 - acc: 0.9128 - val_loss: 0.2923 - val_acc: 0.9078\n",
      "Epoch 3/100\n",
      "579/579 [==============================] - 1s 1ms/step - loss: 0.2501 - acc: 0.9132 - val_loss: 0.2840 - val_acc: 0.9078\n",
      "Epoch 4/100\n",
      "579/579 [==============================] - 1s 958us/step - loss: 0.2359 - acc: 0.9161 - val_loss: 0.2789 - val_acc: 0.9124\n",
      "Epoch 5/100\n",
      "579/579 [==============================] - 1s 973us/step - loss: 0.2171 - acc: 0.9252 - val_loss: 0.2810 - val_acc: 0.9078\n",
      "Epoch 6/100\n",
      "579/579 [==============================] - 1s 975us/step - loss: 0.1997 - acc: 0.9338 - val_loss: 0.3096 - val_acc: 0.8963\n",
      "Epoch 7/100\n",
      "579/579 [==============================] - 1s 975us/step - loss: 0.1785 - acc: 0.9419 - val_loss: 0.3056 - val_acc: 0.9055\n",
      "Epoch 8/100\n",
      "579/579 [==============================] - 1s 975us/step - loss: 0.1574 - acc: 0.9467 - val_loss: 0.3228 - val_acc: 0.9009\n",
      "Epoch 9/100\n",
      "579/579 [==============================] - 1s 978us/step - loss: 0.1414 - acc: 0.9481 - val_loss: 0.3506 - val_acc: 0.8963\n",
      "Epoch 10/100\n",
      "579/579 [==============================] - 1s 978us/step - loss: 0.1278 - acc: 0.9519 - val_loss: 0.3348 - val_acc: 0.9032\n",
      "Epoch 11/100\n",
      "579/579 [==============================] - 1s 986us/step - loss: 0.1114 - acc: 0.9569 - val_loss: 0.3657 - val_acc: 0.8894\n",
      "Epoch 12/100\n",
      "579/579 [==============================] - 1s 977us/step - loss: 0.0913 - acc: 0.9637 - val_loss: 0.3766 - val_acc: 0.8871\n",
      "Epoch 13/100\n",
      "579/579 [==============================] - 1s 963us/step - loss: 0.0854 - acc: 0.9680 - val_loss: 0.3679 - val_acc: 0.8917\n",
      "Epoch 14/100\n",
      "579/579 [==============================] - 1s 977us/step - loss: 0.0721 - acc: 0.9752 - val_loss: 0.4185 - val_acc: 0.8917\n",
      "Epoch 15/100\n",
      "579/579 [==============================] - 1s 975us/step - loss: 0.0630 - acc: 0.9774 - val_loss: 0.4293 - val_acc: 0.8848\n",
      "Epoch 16/100\n",
      "579/579 [==============================] - 1s 976us/step - loss: 0.0579 - acc: 0.9805 - val_loss: 0.4272 - val_acc: 0.8894\n",
      "Epoch 17/100\n",
      "579/579 [==============================] - 1s 969us/step - loss: 0.0541 - acc: 0.9812 - val_loss: 0.4680 - val_acc: 0.8894\n",
      "Epoch 18/100\n",
      "579/579 [==============================] - 1s 973us/step - loss: 0.0480 - acc: 0.9822 - val_loss: 0.4782 - val_acc: 0.8917\n",
      "Epoch 19/100\n",
      "579/579 [==============================] - 1s 973us/step - loss: 0.0430 - acc: 0.9856 - val_loss: 0.4881 - val_acc: 0.8802\n",
      "Epoch 20/100\n",
      "579/579 [==============================] - 1s 972us/step - loss: 0.0379 - acc: 0.9880 - val_loss: 0.4974 - val_acc: 0.8940\n",
      "Epoch 21/100\n",
      "579/579 [==============================] - 1s 1ms/step - loss: 0.0359 - acc: 0.9882 - val_loss: 0.5125 - val_acc: 0.8917\n",
      "Epoch 22/100\n",
      "579/579 [==============================] - 1s 975us/step - loss: 0.0342 - acc: 0.9884 - val_loss: 0.5096 - val_acc: 0.8894\n",
      "Epoch 23/100\n",
      "579/579 [==============================] - 1s 982us/step - loss: 0.0328 - acc: 0.9885 - val_loss: 0.5721 - val_acc: 0.8779\n",
      "Epoch 24/100\n",
      "579/579 [==============================] - 1s 968us/step - loss: 0.0402 - acc: 0.9857 - val_loss: 0.5860 - val_acc: 0.8802\n",
      "Epoch 25/100\n",
      "579/579 [==============================] - 1s 983us/step - loss: 0.0368 - acc: 0.9859 - val_loss: 0.5527 - val_acc: 0.8710\n",
      "Epoch 26/100\n",
      "579/579 [==============================] - 1s 993us/step - loss: 0.0263 - acc: 0.9901 - val_loss: 0.5498 - val_acc: 0.8802\n",
      "Epoch 27/100\n",
      "579/579 [==============================] - 1s 981us/step - loss: 0.0266 - acc: 0.9904 - val_loss: 0.5493 - val_acc: 0.8871\n",
      "Epoch 28/100\n",
      "579/579 [==============================] - 1s 987us/step - loss: 0.0273 - acc: 0.9906 - val_loss: 0.5511 - val_acc: 0.8917\n",
      "Epoch 29/100\n",
      "579/579 [==============================] - 1s 1ms/step - loss: 0.0275 - acc: 0.9903 - val_loss: 0.5847 - val_acc: 0.8779\n",
      "Epoch 30/100\n",
      "579/579 [==============================] - 1s 1ms/step - loss: 0.0268 - acc: 0.9894 - val_loss: 0.5582 - val_acc: 0.8871\n",
      "Epoch 31/100\n",
      "579/579 [==============================] - 1s 1ms/step - loss: 0.0254 - acc: 0.9917 - val_loss: 0.6149 - val_acc: 0.8779\n",
      "Epoch 32/100\n",
      "579/579 [==============================] - 1s 1ms/step - loss: 0.0258 - acc: 0.9915 - val_loss: 0.5686 - val_acc: 0.8825\n",
      "Epoch 33/100\n",
      "579/579 [==============================] - 1s 1ms/step - loss: 0.0253 - acc: 0.9903 - val_loss: 0.5970 - val_acc: 0.8917\n",
      "Epoch 34/100\n",
      "579/579 [==============================] - 1s 1ms/step - loss: 0.0253 - acc: 0.9906 - val_loss: 0.5690 - val_acc: 0.8848\n",
      "Epoch 35/100\n",
      "579/579 [==============================] - 1s 926us/step - loss: 0.0188 - acc: 0.9932 - val_loss: 0.6092 - val_acc: 0.8733\n",
      "Epoch 36/100\n",
      "579/579 [==============================] - 1s 934us/step - loss: 0.0221 - acc: 0.9915 - val_loss: 0.6022 - val_acc: 0.8779\n",
      "Epoch 37/100\n",
      "579/579 [==============================] - 1s 929us/step - loss: 0.0191 - acc: 0.9935 - val_loss: 0.5985 - val_acc: 0.8917\n",
      "Epoch 38/100\n",
      "579/579 [==============================] - 1s 939us/step - loss: 0.0218 - acc: 0.9921 - val_loss: 0.6020 - val_acc: 0.8894\n",
      "Epoch 39/100\n",
      "579/579 [==============================] - 1s 940us/step - loss: 0.0191 - acc: 0.9922 - val_loss: 0.6101 - val_acc: 0.8871\n",
      "Epoch 40/100\n",
      "579/579 [==============================] - 1s 930us/step - loss: 0.0206 - acc: 0.9915 - val_loss: 0.6199 - val_acc: 0.8871\n",
      "Epoch 41/100\n",
      "579/579 [==============================] - 1s 951us/step - loss: 0.0169 - acc: 0.9935 - val_loss: 0.6029 - val_acc: 0.8871\n",
      "Epoch 42/100\n",
      "579/579 [==============================] - 1s 1ms/step - loss: 0.0162 - acc: 0.9926 - val_loss: 0.6442 - val_acc: 0.8779\n",
      "Epoch 43/100\n",
      "579/579 [==============================] - 1s 1ms/step - loss: 0.0185 - acc: 0.9922 - val_loss: 0.6405 - val_acc: 0.8940\n",
      "Epoch 44/100\n",
      "579/579 [==============================] - 1s 932us/step - loss: 0.0158 - acc: 0.9938 - val_loss: 0.6674 - val_acc: 0.8802\n",
      "Epoch 45/100\n",
      "579/579 [==============================] - 1s 936us/step - loss: 0.0223 - acc: 0.9896 - val_loss: 0.6331 - val_acc: 0.8802\n",
      "Epoch 46/100\n",
      "579/579 [==============================] - 1s 924us/step - loss: 0.0190 - acc: 0.9924 - val_loss: 0.6429 - val_acc: 0.8756\n",
      "Epoch 47/100\n",
      "579/579 [==============================] - 1s 944us/step - loss: 0.0174 - acc: 0.9925 - val_loss: 0.6308 - val_acc: 0.8894\n",
      "Epoch 48/100\n",
      "579/579 [==============================] - 1s 968us/step - loss: 0.0166 - acc: 0.9926 - val_loss: 0.6303 - val_acc: 0.8940\n",
      "Epoch 49/100\n",
      "579/579 [==============================] - 1s 952us/step - loss: 0.0153 - acc: 0.9931 - val_loss: 0.6522 - val_acc: 0.8894\n",
      "Epoch 50/100\n",
      "579/579 [==============================] - 1s 928us/step - loss: 0.0146 - acc: 0.9940 - val_loss: 0.6960 - val_acc: 0.8779\n",
      "Epoch 51/100\n",
      "579/579 [==============================] - 1s 928us/step - loss: 0.0171 - acc: 0.9928 - val_loss: 0.6782 - val_acc: 0.8779\n",
      "Epoch 52/100\n",
      "579/579 [==============================] - 1s 1ms/step - loss: 0.0149 - acc: 0.9938 - val_loss: 0.6571 - val_acc: 0.8779\n",
      "Epoch 53/100\n",
      "579/579 [==============================] - 1s 990us/step - loss: 0.0158 - acc: 0.9931 - val_loss: 0.6869 - val_acc: 0.8710\n",
      "Epoch 54/100\n",
      "579/579 [==============================] - 1s 1ms/step - loss: 0.0170 - acc: 0.9938 - val_loss: 0.6718 - val_acc: 0.8779\n",
      "Epoch 55/100\n",
      "579/579 [==============================] - 1s 1ms/step - loss: 0.0162 - acc: 0.9928 - val_loss: 0.6559 - val_acc: 0.8802\n",
      "Epoch 56/100\n",
      "579/579 [==============================] - 1s 1ms/step - loss: 0.0165 - acc: 0.9920 - val_loss: 0.6327 - val_acc: 0.8917\n",
      "Epoch 57/100\n",
      "579/579 [==============================] - 1s 1ms/step - loss: 0.0145 - acc: 0.9935 - val_loss: 0.6638 - val_acc: 0.8825\n",
      "Epoch 58/100\n",
      "579/579 [==============================] - 1s 994us/step - loss: 0.0151 - acc: 0.9925 - val_loss: 0.6619 - val_acc: 0.8756\n",
      "Epoch 59/100\n",
      "579/579 [==============================] - 1s 997us/step - loss: 0.0171 - acc: 0.9926 - val_loss: 0.6341 - val_acc: 0.8825\n",
      "Epoch 60/100\n",
      "579/579 [==============================] - 1s 1ms/step - loss: 0.0139 - acc: 0.9942 - val_loss: 0.6623 - val_acc: 0.8802\n",
      "Epoch 61/100\n",
      "579/579 [==============================] - 1s 1ms/step - loss: 0.0143 - acc: 0.9935 - val_loss: 0.6803 - val_acc: 0.8802\n",
      "Epoch 62/100\n",
      "579/579 [==============================] - 1s 1ms/step - loss: 0.0141 - acc: 0.9930 - val_loss: 0.6915 - val_acc: 0.8756\n",
      "Epoch 63/100\n",
      "579/579 [==============================] - 1s 1ms/step - loss: 0.0129 - acc: 0.9938 - val_loss: 0.6929 - val_acc: 0.8825\n",
      "Epoch 64/100\n",
      "579/579 [==============================] - 1s 1ms/step - loss: 0.0129 - acc: 0.9935 - val_loss: 0.6918 - val_acc: 0.8825\n",
      "Epoch 65/100\n",
      "579/579 [==============================] - 1s 1ms/step - loss: 0.0130 - acc: 0.9932 - val_loss: 0.7092 - val_acc: 0.8779\n",
      "Epoch 66/100\n",
      "579/579 [==============================] - 1s 1ms/step - loss: 0.0149 - acc: 0.9925 - val_loss: 0.7114 - val_acc: 0.8779\n",
      "Epoch 67/100\n",
      "579/579 [==============================] - 1s 953us/step - loss: 0.0128 - acc: 0.9941 - val_loss: 0.7116 - val_acc: 0.8779\n",
      "Epoch 68/100\n",
      "579/579 [==============================] - 1s 918us/step - loss: 0.0135 - acc: 0.9926 - val_loss: 0.7355 - val_acc: 0.8687\n",
      "Epoch 69/100\n",
      "579/579 [==============================] - 1s 919us/step - loss: 0.0153 - acc: 0.9927 - val_loss: 0.7087 - val_acc: 0.8802\n",
      "Epoch 70/100\n",
      "579/579 [==============================] - 1s 932us/step - loss: 0.0145 - acc: 0.9941 - val_loss: 0.6668 - val_acc: 0.8825\n",
      "Epoch 71/100\n",
      "579/579 [==============================] - 1s 925us/step - loss: 0.0128 - acc: 0.9937 - val_loss: 0.7066 - val_acc: 0.8848\n",
      "Epoch 72/100\n",
      "579/579 [==============================] - 1s 1ms/step - loss: 0.0129 - acc: 0.9933 - val_loss: 0.6986 - val_acc: 0.8848\n",
      "Epoch 73/100\n",
      "579/579 [==============================] - 1s 1ms/step - loss: 0.0115 - acc: 0.9936 - val_loss: 0.7077 - val_acc: 0.8917\n",
      "Epoch 74/100\n",
      "579/579 [==============================] - 1s 1ms/step - loss: 0.0139 - acc: 0.9935 - val_loss: 0.7121 - val_acc: 0.8825\n",
      "Epoch 75/100\n",
      "579/579 [==============================] - 1s 995us/step - loss: 0.0164 - acc: 0.9926 - val_loss: 0.7396 - val_acc: 0.8871\n",
      "Epoch 76/100\n",
      "579/579 [==============================] - 1s 929us/step - loss: 0.0129 - acc: 0.9932 - val_loss: 0.7310 - val_acc: 0.8848\n",
      "Epoch 77/100\n",
      "579/579 [==============================] - 1s 1ms/step - loss: 0.0147 - acc: 0.9924 - val_loss: 0.7016 - val_acc: 0.8802\n",
      "Epoch 78/100\n",
      "579/579 [==============================] - 1s 954us/step - loss: 0.0119 - acc: 0.9941 - val_loss: 0.7122 - val_acc: 0.8871\n",
      "Epoch 79/100\n",
      "579/579 [==============================] - 1s 1ms/step - loss: 0.0138 - acc: 0.9930 - val_loss: 0.7000 - val_acc: 0.8848\n",
      "Epoch 80/100\n",
      "579/579 [==============================] - 1s 945us/step - loss: 0.0171 - acc: 0.9917 - val_loss: 0.7299 - val_acc: 0.8825\n",
      "Epoch 81/100\n",
      "579/579 [==============================] - 1s 926us/step - loss: 0.0191 - acc: 0.9917 - val_loss: 0.6984 - val_acc: 0.8848\n",
      "Epoch 82/100\n",
      "579/579 [==============================] - 1s 948us/step - loss: 0.0130 - acc: 0.9932 - val_loss: 0.7086 - val_acc: 0.8802\n",
      "Epoch 83/100\n",
      "579/579 [==============================] - 1s 931us/step - loss: 0.0112 - acc: 0.9936 - val_loss: 0.6891 - val_acc: 0.8848\n",
      "Epoch 84/100\n",
      "579/579 [==============================] - 1s 934us/step - loss: 0.0123 - acc: 0.9935 - val_loss: 0.7341 - val_acc: 0.8802\n",
      "Epoch 85/100\n",
      "579/579 [==============================] - 1s 918us/step - loss: 0.0120 - acc: 0.9925 - val_loss: 0.7249 - val_acc: 0.8825\n",
      "Epoch 86/100\n",
      "579/579 [==============================] - 1s 1ms/step - loss: 0.0114 - acc: 0.9943 - val_loss: 0.7422 - val_acc: 0.8871\n",
      "Epoch 87/100\n",
      "579/579 [==============================] - 1s 1ms/step - loss: 0.0131 - acc: 0.9926 - val_loss: 0.7341 - val_acc: 0.8871\n",
      "Epoch 88/100\n",
      "579/579 [==============================] - 1s 1ms/step - loss: 0.0129 - acc: 0.9932 - val_loss: 0.7376 - val_acc: 0.8894\n",
      "Epoch 89/100\n",
      "579/579 [==============================] - 1s 1ms/step - loss: 0.0116 - acc: 0.9937 - val_loss: 0.7444 - val_acc: 0.8802\n",
      "Epoch 90/100\n",
      "579/579 [==============================] - 1s 1ms/step - loss: 0.0113 - acc: 0.9937 - val_loss: 0.7701 - val_acc: 0.8802\n",
      "Epoch 91/100\n",
      "579/579 [==============================] - 1s 988us/step - loss: 0.0108 - acc: 0.9935 - val_loss: 0.7595 - val_acc: 0.8848\n",
      "Epoch 92/100\n",
      "579/579 [==============================] - 1s 1ms/step - loss: 0.0121 - acc: 0.9926 - val_loss: 0.7456 - val_acc: 0.8894\n",
      "Epoch 93/100\n",
      "579/579 [==============================] - 1s 994us/step - loss: 0.0132 - acc: 0.9931 - val_loss: 0.7285 - val_acc: 0.8917\n",
      "Epoch 94/100\n",
      "579/579 [==============================] - 1s 1ms/step - loss: 0.0117 - acc: 0.9932 - val_loss: 0.7475 - val_acc: 0.8848\n",
      "Epoch 95/100\n",
      "579/579 [==============================] - 1s 986us/step - loss: 0.0115 - acc: 0.9943 - val_loss: 0.7551 - val_acc: 0.8825\n",
      "Epoch 96/100\n",
      "579/579 [==============================] - 1s 1ms/step - loss: 0.0115 - acc: 0.9932 - val_loss: 0.7743 - val_acc: 0.8848\n",
      "Epoch 97/100\n",
      "579/579 [==============================] - 1s 1ms/step - loss: 0.0096 - acc: 0.9946 - val_loss: 0.7827 - val_acc: 0.8871\n",
      "Epoch 98/100\n",
      "579/579 [==============================] - 1s 1ms/step - loss: 0.0108 - acc: 0.9930 - val_loss: 0.7840 - val_acc: 0.8825\n",
      "Epoch 99/100\n",
      "579/579 [==============================] - 1s 1ms/step - loss: 0.0116 - acc: 0.9933 - val_loss: 0.7790 - val_acc: 0.8779\n",
      "Epoch 100/100\n",
      "579/579 [==============================] - 1s 984us/step - loss: 0.0120 - acc: 0.9933 - val_loss: 0.8277 - val_acc: 0.8802\n"
     ]
    }
   ],
   "source": [
    "history = model.fit(totalX, totalY, validation_split=0.05, batch_size=20, epochs=100)"
   ]
  },
  {
   "cell_type": "code",
   "execution_count": 142,
   "metadata": {},
   "outputs": [],
   "source": [
    "## Saving the model\n",
    "model.save_weights('model_nlp_weights.h5')\n",
    "\n",
    "# Save the model architecture\n",
    "with open('model_architecture.json', 'w') as f:\n",
    "    f.write(model.to_json())"
   ]
  },
  {
   "cell_type": "code",
   "execution_count": 143,
   "metadata": {},
   "outputs": [],
   "source": [
    "model.save('my_model.h5')\n",
    "## Loading the model\n"
   ]
  },
  {
   "cell_type": "code",
   "execution_count": 2,
   "metadata": {},
   "outputs": [
    {
     "name": "stdout",
     "output_type": "stream",
     "text": [
      "WARNING:tensorflow:From /home/n/anaconda3/envs/tensorflow/lib/python3.6/site-packages/keras/backend/tensorflow_backend.py:1247: calling reduce_sum (from tensorflow.python.ops.math_ops) with keep_dims is deprecated and will be removed in a future version.\n",
      "Instructions for updating:\n",
      "keep_dims is deprecated, use keepdims instead\n",
      "WARNING:tensorflow:From /home/n/anaconda3/envs/tensorflow/lib/python3.6/site-packages/keras/backend/tensorflow_backend.py:1349: calling reduce_mean (from tensorflow.python.ops.math_ops) with keep_dims is deprecated and will be removed in a future version.\n",
      "Instructions for updating:\n",
      "keep_dims is deprecated, use keepdims instead\n"
     ]
    }
   ],
   "source": [
    "from keras.models import load_model\n",
    "\n",
    "model = load_model('my_model.h5')"
   ]
  },
  {
   "cell_type": "code",
   "execution_count": null,
   "metadata": {},
   "outputs": [],
   "source": []
  },
  {
   "cell_type": "code",
   "execution_count": 103,
   "metadata": {},
   "outputs": [
    {
     "data": {
      "image/png": "[encoded data removed]",
      "text/plain": [
       "<matplotlib.figure.Figure at 0x7f5521f22ba8>"
      ]
     },
     "metadata": {},
     "output_type": "display_data"
    },
    {
     "data": {
      "image/png": "[encoded data removed]",
      "text/plain": [
       "<matplotlib.figure.Figure at 0x7f5521f33e80>"
      ]
     },
     "metadata": {},
     "output_type": "display_data"
    }
   ],
   "source": [
    "import matplotlib.pyplot as plt\n",
    "\n",
    "acc = history.history['acc']\n",
    "val_acc = history.history['val_acc']\n",
    "loss = history.history['loss']\n",
    "val_loss = history.history['val_loss']\n",
    "\n",
    "epochs = range(len(acc))\n",
    "\n",
    "plt.plot(epochs, acc, 'bo', label='Training acc')\n",
    "plt.plot(epochs, val_acc, 'b', label='Validation acc')\n",
    "plt.title('Training and validation accuracy')\n",
    "plt.legend()\n",
    "\n",
    "plt.figure()\n",
    "\n",
    "plt.plot(epochs, loss, 'bo', label='Training loss')\n",
    "plt.plot(epochs, val_loss, 'b', label='Validation loss')\n",
    "plt.title('Training and validation loss')\n",
    "plt.legend()\n",
    "\n",
    "plt.show()\n"
   ]
  },
  {
   "cell_type": "code",
   "execution_count": 84,
   "metadata": {},
   "outputs": [],
   "source": [
    "%matplotlib inline"
   ]
  },
  {
   "cell_type": "code",
   "execution_count": 102,
   "metadata": {},
   "outputs": [
    {
     "name": "stdout",
     "output_type": "stream",
     "text": [
      "code opencv working detection\n"
     ]
    }
   ],
   "source": [
    "# k = 1234\n",
    "# doc220 = hh[0][600]\n",
    "text = \"so, I want the code for opencv which i am working for detection?\"\n",
    "doc220 = text\n",
    "\n",
    "# print(document_Y[k])\n",
    "input_x_220 = cleanUpSentence(doc220, stop_words)\n",
    "print(input_x_220)\n"
   ]
  },
  {
   "cell_type": "code",
   "execution_count": 103,
   "metadata": {},
   "outputs": [],
   "source": [
    "textArray = np.array(pad_sequences(input_tokenizer.texts_to_sequences([input_x_220]), maxlen=maxLength))\n",
    "predicted = model.predict(textArray)[0]"
   ]
  },
  {
   "cell_type": "code",
   "execution_count": 107,
   "metadata": {},
   "outputs": [
    {
     "name": "stdout",
     "output_type": "stream",
     "text": [
      "none\n"
     ]
    }
   ],
   "source": [
    "for i, prob in enumerate(predicted):\n",
    "#     print(i)\n",
    "    if prob > 0.2:\n",
    "        print(selected_categories[i])"
   ]
  },
  {
   "cell_type": "code",
   "execution_count": 131,
   "metadata": {},
   "outputs": [
    {
     "data": {
      "text/plain": [
       "array([ True, False, False, False, False,  True, False, False, False,\n",
       "       False, False, False, False, False])"
      ]
     },
     "execution_count": 131,
     "metadata": {},
     "output_type": "execute_result"
    }
   ],
   "source": [
    "predicted>0.6"
   ]
  },
  {
   "cell_type": "code",
   "execution_count": 132,
   "metadata": {},
   "outputs": [
    {
     "data": {
      "text/plain": [
       "array([0.7610231 , 0.03751443, 0.4859178 , 0.5366654 , 0.40908346,\n",
       "       0.6962185 , 0.05766739, 0.16897568, 0.23509485, 0.2812517 ,\n",
       "       0.09935365, 0.25982773, 0.581924  , 0.05464588], dtype=float32)"
      ]
     },
     "execution_count": 132,
     "metadata": {},
     "output_type": "execute_result"
    }
   ],
   "source": [
    "predicted"
   ]
  },
  {
   "cell_type": "code",
   "execution_count": 138,
   "metadata": {},
   "outputs": [],
   "source": [
    "text = \"hole filling?\""
   ]
  },
  {
   "cell_type": "code",
   "execution_count": null,
   "metadata": {},
   "outputs": [],
   "source": []
  },
  {
   "cell_type": "code",
   "execution_count": null,
   "metadata": {},
   "outputs": [],
   "source": []
  },
  {
   "cell_type": "code",
   "execution_count": null,
   "metadata": {},
   "outputs": [],
   "source": []
  },
  {
   "cell_type": "code",
   "execution_count": null,
   "metadata": {},
   "outputs": [],
   "source": []
  }
 ],
 "metadata": {
  "kernelspec": {
   "display_name": "Python 3",
   "language": "python",
   "name": "python3"
  },
  "language_info": {
   "codemirror_mode": {
    "name": "ipython",
    "version": 3
   },
   "file_extension": ".py",
   "mimetype": "text/x-python",
   "name": "python",
   "nbconvert_exporter": "python",
   "pygments_lexer": "ipython3",
   "version": "3.6.3"
  }
 },
 "nbformat": 4,
 "nbformat_minor": 2
}
